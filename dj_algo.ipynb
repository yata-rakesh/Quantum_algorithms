{
 "cells": [
  {
   "cell_type": "code",
   "execution_count": 46,
   "id": "e252008b",
   "metadata": {},
   "outputs": [
    {
     "name": "stdout",
     "output_type": "stream",
     "text": [
      "enter no:of input states:\n",
      "4\n",
      "1101\n"
     ]
    },
    {
     "data": {
      "text/html": [
       "<pre style=\"word-wrap: normal;white-space: pre;background: #fff0;line-height: 1.1;font-family: &quot;Courier New&quot;,Courier,monospace\">     ┌───┐ ░                      ░ \n",
       "q_0: ┤ X ├─░───■──────────────────░─\n",
       "     ├───┤ ░   │                  ░ \n",
       "q_1: ┤ X ├─░───┼────■─────────────░─\n",
       "     └───┘ ░   │    │             ░ \n",
       "q_2: ──────░───┼────┼────■────────░─\n",
       "     ┌───┐ ░   │    │    │        ░ \n",
       "q_3: ┤ X ├─░───┼────┼────┼────■───░─\n",
       "     └───┘ ░ ┌─┴─┐┌─┴─┐┌─┴─┐┌─┴─┐ ░ \n",
       "q_4: ──────░─┤ X ├┤ X ├┤ X ├┤ X ├─░─\n",
       "           ░ └───┘└───┘└───┘└───┘ ░ \n",
       "c: 4/═══════════════════════════════\n",
       "                                    </pre>"
      ],
      "text/plain": [
       "     ┌───┐ ░                      ░ \n",
       "q_0: ┤ X ├─░───■──────────────────░─\n",
       "     ├───┤ ░   │                  ░ \n",
       "q_1: ┤ X ├─░───┼────■─────────────░─\n",
       "     └───┘ ░   │    │             ░ \n",
       "q_2: ──────░───┼────┼────■────────░─\n",
       "     ┌───┐ ░   │    │    │        ░ \n",
       "q_3: ┤ X ├─░───┼────┼────┼────■───░─\n",
       "     └───┘ ░ ┌─┴─┐┌─┴─┐┌─┴─┐┌─┴─┐ ░ \n",
       "q_4: ──────░─┤ X ├┤ X ├┤ X ├┤ X ├─░─\n",
       "           ░ └───┘└───┘└───┘└───┘ ░ \n",
       "c: 4/═══════════════════════════════\n",
       "                                    "
      ]
     },
     "execution_count": 46,
     "metadata": {},
     "output_type": "execute_result"
    }
   ],
   "source": [
    "import numpy as np\n",
    "import matplotlib\n",
    "from qiskit import IBMQ,Aer\n",
    "from qiskit.providers.ibmq import least_busy\n",
    "from qiskit import QuantumCircuit, transpile, assemble\n",
    "from qiskit.visualization import plot_histogram\n",
    "from qiskit import *\n",
    "print(\"enter no:of input states:\")\n",
    "n = int(input())\n",
    "\n",
    "#constant oracle design\n",
    "#constant_oracle = QuantumCircuit(n+1)\n",
    "#state = np.random.randint(2)\n",
    "#if(state == 1):\n",
    "#    constant_oracle.x(n)\n",
    "#constant_oracle.draw()\n",
    "\n",
    "\n",
    "\n",
    "#balanced oracle design\n",
    "balanced_oracle = QuantumCircuit(n+1,n)\n",
    "balanced_string = input()   #We can change the output states of the balanced oracle by adding not gates to some qubits\n",
    "for i in range(len(balanced_string)):\n",
    "    if(balanced_string[i]==\"1\"): \n",
    "        balanced_oracle.x(i)\n",
    "balanced_oracle.barrier()\n",
    "for qubit in range(n):\n",
    "    balanced_oracle.cx(qubit,n)\n",
    "balanced_oracle.barrier()\n",
    "balanced_oracle.draw()\n",
    "\n",
    "\n"
   ]
  },
  {
   "cell_type": "code",
   "execution_count": 47,
   "id": "9e7e6bea",
   "metadata": {},
   "outputs": [
    {
     "data": {
      "text/html": [
       "<pre style=\"word-wrap: normal;white-space: pre;background: #fff0;line-height: 1.1;font-family: &quot;Courier New&quot;,Courier,monospace\">     ┌───┐     \n",
       "q_0: ┤ H ├─────\n",
       "     ├───┤     \n",
       "q_1: ┤ H ├─────\n",
       "     ├───┤     \n",
       "q_2: ┤ H ├─────\n",
       "     ├───┤     \n",
       "q_3: ┤ H ├─────\n",
       "     ├───┤┌───┐\n",
       "q_4: ┤ X ├┤ H ├\n",
       "     └───┘└───┘\n",
       "c: 4/══════════\n",
       "               </pre>"
      ],
      "text/plain": [
       "     ┌───┐     \n",
       "q_0: ┤ H ├─────\n",
       "     ├───┤     \n",
       "q_1: ┤ H ├─────\n",
       "     ├───┤     \n",
       "q_2: ┤ H ├─────\n",
       "     ├───┤     \n",
       "q_3: ┤ H ├─────\n",
       "     ├───┤┌───┐\n",
       "q_4: ┤ X ├┤ H ├\n",
       "     └───┘└───┘\n",
       "c: 4/══════════\n",
       "               "
      ]
     },
     "execution_count": 47,
     "metadata": {},
     "output_type": "execute_result"
    }
   ],
   "source": [
    "dj_circuit = QuantumCircuit(n+1,n)\n",
    "for qubit in range(n):\n",
    "    dj_circuit.h(qubit)\n",
    "dj_circuit.x(n)\n",
    "dj_circuit.h(n)\n",
    "dj_circuit.draw()\n",
    "    "
   ]
  },
  {
   "cell_type": "code",
   "execution_count": 48,
   "id": "b6a45bc6",
   "metadata": {},
   "outputs": [
    {
     "name": "stderr",
     "output_type": "stream",
     "text": [
      "/tmp/ipykernel_4217/3339556279.py:1: DeprecationWarning: The QuantumCircuit.__add__() method is being deprecated.Use the compose() method which is more flexible w.r.t circuit register compatibility.\n",
      "  dj_circuit = dj_circuit + balanced_oracle\n"
     ]
    },
    {
     "data": {
      "text/html": [
       "<pre style=\"word-wrap: normal;white-space: pre;background: #fff0;line-height: 1.1;font-family: &quot;Courier New&quot;,Courier,monospace\">     ┌───┐┌───┐ ░                      ░ \n",
       "q_0: ┤ H ├┤ X ├─░───■──────────────────░─\n",
       "     ├───┤├───┤ ░   │                  ░ \n",
       "q_1: ┤ H ├┤ X ├─░───┼────■─────────────░─\n",
       "     ├───┤└───┘ ░   │    │             ░ \n",
       "q_2: ┤ H ├──────░───┼────┼────■────────░─\n",
       "     ├───┤┌───┐ ░   │    │    │        ░ \n",
       "q_3: ┤ H ├┤ X ├─░───┼────┼────┼────■───░─\n",
       "     ├───┤├───┤ ░ ┌─┴─┐┌─┴─┐┌─┴─┐┌─┴─┐ ░ \n",
       "q_4: ┤ X ├┤ H ├─░─┤ X ├┤ X ├┤ X ├┤ X ├─░─\n",
       "     └───┘└───┘ ░ └───┘└───┘└───┘└───┘ ░ \n",
       "c: 4/════════════════════════════════════\n",
       "                                         </pre>"
      ],
      "text/plain": [
       "     ┌───┐┌───┐ ░                      ░ \n",
       "q_0: ┤ H ├┤ X ├─░───■──────────────────░─\n",
       "     ├───┤├───┤ ░   │                  ░ \n",
       "q_1: ┤ H ├┤ X ├─░───┼────■─────────────░─\n",
       "     ├───┤└───┘ ░   │    │             ░ \n",
       "q_2: ┤ H ├──────░───┼────┼────■────────░─\n",
       "     ├───┤┌───┐ ░   │    │    │        ░ \n",
       "q_3: ┤ H ├┤ X ├─░───┼────┼────┼────■───░─\n",
       "     ├───┤├───┤ ░ ┌─┴─┐┌─┴─┐┌─┴─┐┌─┴─┐ ░ \n",
       "q_4: ┤ X ├┤ H ├─░─┤ X ├┤ X ├┤ X ├┤ X ├─░─\n",
       "     └───┘└───┘ ░ └───┘└───┘└───┘└───┘ ░ \n",
       "c: 4/════════════════════════════════════\n",
       "                                         "
      ]
     },
     "execution_count": 48,
     "metadata": {},
     "output_type": "execute_result"
    }
   ],
   "source": [
    "dj_circuit = dj_circuit + balanced_oracle\n",
    "dj_circuit.draw()"
   ]
  },
  {
   "cell_type": "code",
   "execution_count": 49,
   "id": "62bb06e2",
   "metadata": {},
   "outputs": [
    {
     "data": {
      "text/html": [
       "<pre style=\"word-wrap: normal;white-space: pre;background: #fff0;line-height: 1.1;font-family: &quot;Courier New&quot;,Courier,monospace\">     ┌───┐┌───┐ ░                      ░ ┌───┐\n",
       "q_0: ┤ H ├┤ X ├─░───■──────────────────░─┤ X ├\n",
       "     ├───┤├───┤ ░   │                  ░ ├───┤\n",
       "q_1: ┤ H ├┤ X ├─░───┼────■─────────────░─┤ X ├\n",
       "     ├───┤└───┘ ░   │    │             ░ └───┘\n",
       "q_2: ┤ H ├──────░───┼────┼────■────────░──────\n",
       "     ├───┤┌───┐ ░   │    │    │        ░ ┌───┐\n",
       "q_3: ┤ H ├┤ X ├─░───┼────┼────┼────■───░─┤ X ├\n",
       "     ├───┤├───┤ ░ ┌─┴─┐┌─┴─┐┌─┴─┐┌─┴─┐ ░ └───┘\n",
       "q_4: ┤ X ├┤ H ├─░─┤ X ├┤ X ├┤ X ├┤ X ├─░──────\n",
       "     └───┘└───┘ ░ └───┘└───┘└───┘└───┘ ░      \n",
       "c: 4/═════════════════════════════════════════\n",
       "                                              </pre>"
      ],
      "text/plain": [
       "     ┌───┐┌───┐ ░                      ░ ┌───┐\n",
       "q_0: ┤ H ├┤ X ├─░───■──────────────────░─┤ X ├\n",
       "     ├───┤├───┤ ░   │                  ░ ├───┤\n",
       "q_1: ┤ H ├┤ X ├─░───┼────■─────────────░─┤ X ├\n",
       "     ├───┤└───┘ ░   │    │             ░ └───┘\n",
       "q_2: ┤ H ├──────░───┼────┼────■────────░──────\n",
       "     ├───┤┌───┐ ░   │    │    │        ░ ┌───┐\n",
       "q_3: ┤ H ├┤ X ├─░───┼────┼────┼────■───░─┤ X ├\n",
       "     ├───┤├───┤ ░ ┌─┴─┐┌─┴─┐┌─┴─┐┌─┴─┐ ░ └───┘\n",
       "q_4: ┤ X ├┤ H ├─░─┤ X ├┤ X ├┤ X ├┤ X ├─░──────\n",
       "     └───┘└───┘ ░ └───┘└───┘└───┘└───┘ ░      \n",
       "c: 4/═════════════════════════════════════════\n",
       "                                              "
      ]
     },
     "execution_count": 49,
     "metadata": {},
     "output_type": "execute_result"
    }
   ],
   "source": [
    "for i in range(len(balanced_string)):\n",
    "    if(balanced_string[i]==\"1\"):\n",
    "        dj_circuit.x(i)\n",
    "dj_circuit.draw()"
   ]
  },
  {
   "cell_type": "code",
   "execution_count": 50,
   "id": "ea9c5241",
   "metadata": {},
   "outputs": [],
   "source": [
    "for i in range(n):\n",
    "    dj_circuit.h(i)\n"
   ]
  },
  {
   "cell_type": "code",
   "execution_count": 51,
   "id": "f67a3f0e",
   "metadata": {},
   "outputs": [
    {
     "data": {
      "text/html": [
       "<pre style=\"word-wrap: normal;white-space: pre;background: #fff0;line-height: 1.1;font-family: &quot;Courier New&quot;,Courier,monospace\">     ┌───┐┌───┐ ░                      ░ ┌───┐┌───┐\n",
       "q_0: ┤ H ├┤ X ├─░───■──────────────────░─┤ X ├┤ H ├\n",
       "     ├───┤├───┤ ░   │                  ░ ├───┤├───┤\n",
       "q_1: ┤ H ├┤ X ├─░───┼────■─────────────░─┤ X ├┤ H ├\n",
       "     ├───┤└───┘ ░   │    │             ░ ├───┤└───┘\n",
       "q_2: ┤ H ├──────░───┼────┼────■────────░─┤ H ├─────\n",
       "     ├───┤┌───┐ ░   │    │    │        ░ ├───┤┌───┐\n",
       "q_3: ┤ H ├┤ X ├─░───┼────┼────┼────■───░─┤ X ├┤ H ├\n",
       "     ├───┤├───┤ ░ ┌─┴─┐┌─┴─┐┌─┴─┐┌─┴─┐ ░ └───┘└───┘\n",
       "q_4: ┤ X ├┤ H ├─░─┤ X ├┤ X ├┤ X ├┤ X ├─░───────────\n",
       "     └───┘└───┘ ░ └───┘└───┘└───┘└───┘ ░           \n",
       "c: 4/══════════════════════════════════════════════\n",
       "                                                   </pre>"
      ],
      "text/plain": [
       "     ┌───┐┌───┐ ░                      ░ ┌───┐┌───┐\n",
       "q_0: ┤ H ├┤ X ├─░───■──────────────────░─┤ X ├┤ H ├\n",
       "     ├───┤├───┤ ░   │                  ░ ├───┤├───┤\n",
       "q_1: ┤ H ├┤ X ├─░───┼────■─────────────░─┤ X ├┤ H ├\n",
       "     ├───┤└───┘ ░   │    │             ░ ├───┤└───┘\n",
       "q_2: ┤ H ├──────░───┼────┼────■────────░─┤ H ├─────\n",
       "     ├───┤┌───┐ ░   │    │    │        ░ ├───┤┌───┐\n",
       "q_3: ┤ H ├┤ X ├─░───┼────┼────┼────■───░─┤ X ├┤ H ├\n",
       "     ├───┤├───┤ ░ ┌─┴─┐┌─┴─┐┌─┴─┐┌─┴─┐ ░ └───┘└───┘\n",
       "q_4: ┤ X ├┤ H ├─░─┤ X ├┤ X ├┤ X ├┤ X ├─░───────────\n",
       "     └───┘└───┘ ░ └───┘└───┘└───┘└───┘ ░           \n",
       "c: 4/══════════════════════════════════════════════\n",
       "                                                   "
      ]
     },
     "execution_count": 51,
     "metadata": {},
     "output_type": "execute_result"
    }
   ],
   "source": [
    "dj_circuit.draw()"
   ]
  },
  {
   "cell_type": "code",
   "execution_count": 52,
   "id": "632e9fa6",
   "metadata": {},
   "outputs": [
    {
     "data": {
      "text/html": [
       "<pre style=\"word-wrap: normal;white-space: pre;background: #fff0;line-height: 1.1;font-family: &quot;Courier New&quot;,Courier,monospace\">     ┌───┐┌───┐ ░                      ░ ┌───┐┌───┐ ░ ┌─┐         \n",
       "q_0: ┤ H ├┤ X ├─░───■──────────────────░─┤ X ├┤ H ├─░─┤M├─────────\n",
       "     ├───┤├───┤ ░   │                  ░ ├───┤├───┤ ░ └╥┘┌─┐      \n",
       "q_1: ┤ H ├┤ X ├─░───┼────■─────────────░─┤ X ├┤ H ├─░──╫─┤M├──────\n",
       "     ├───┤└───┘ ░   │    │             ░ ├───┤└───┘ ░  ║ └╥┘┌─┐   \n",
       "q_2: ┤ H ├──────░───┼────┼────■────────░─┤ H ├──────░──╫──╫─┤M├───\n",
       "     ├───┤┌───┐ ░   │    │    │        ░ ├───┤┌───┐ ░  ║  ║ └╥┘┌─┐\n",
       "q_3: ┤ H ├┤ X ├─░───┼────┼────┼────■───░─┤ X ├┤ H ├─░──╫──╫──╫─┤M├\n",
       "     ├───┤├───┤ ░ ┌─┴─┐┌─┴─┐┌─┴─┐┌─┴─┐ ░ └───┘└───┘ ░  ║  ║  ║ └╥┘\n",
       "q_4: ┤ X ├┤ H ├─░─┤ X ├┤ X ├┤ X ├┤ X ├─░────────────░──╫──╫──╫──╫─\n",
       "     └───┘└───┘ ░ └───┘└───┘└───┘└───┘ ░            ░  ║  ║  ║  ║ \n",
       "c: 4/══════════════════════════════════════════════════╩══╩══╩══╩═\n",
       "                                                       0  1  2  3 </pre>"
      ],
      "text/plain": [
       "     ┌───┐┌───┐ ░                      ░ ┌───┐┌───┐ ░ ┌─┐         \n",
       "q_0: ┤ H ├┤ X ├─░───■──────────────────░─┤ X ├┤ H ├─░─┤M├─────────\n",
       "     ├───┤├───┤ ░   │                  ░ ├───┤├───┤ ░ └╥┘┌─┐      \n",
       "q_1: ┤ H ├┤ X ├─░───┼────■─────────────░─┤ X ├┤ H ├─░──╫─┤M├──────\n",
       "     ├───┤└───┘ ░   │    │             ░ ├───┤└───┘ ░  ║ └╥┘┌─┐   \n",
       "q_2: ┤ H ├──────░───┼────┼────■────────░─┤ H ├──────░──╫──╫─┤M├───\n",
       "     ├───┤┌───┐ ░   │    │    │        ░ ├───┤┌───┐ ░  ║  ║ └╥┘┌─┐\n",
       "q_3: ┤ H ├┤ X ├─░───┼────┼────┼────■───░─┤ X ├┤ H ├─░──╫──╫──╫─┤M├\n",
       "     ├───┤├───┤ ░ ┌─┴─┐┌─┴─┐┌─┴─┐┌─┴─┐ ░ └───┘└───┘ ░  ║  ║  ║ └╥┘\n",
       "q_4: ┤ X ├┤ H ├─░─┤ X ├┤ X ├┤ X ├┤ X ├─░────────────░──╫──╫──╫──╫─\n",
       "     └───┘└───┘ ░ └───┘└───┘└───┘└───┘ ░            ░  ║  ║  ║  ║ \n",
       "c: 4/══════════════════════════════════════════════════╩══╩══╩══╩═\n",
       "                                                       0  1  2  3 "
      ]
     },
     "execution_count": 52,
     "metadata": {},
     "output_type": "execute_result"
    }
   ],
   "source": [
    "dj_circuit.barrier()\n",
    "for i in range(n):\n",
    "    dj_circuit.measure(i,i)\n",
    "dj_circuit.draw()"
   ]
  },
  {
   "cell_type": "code",
   "execution_count": 55,
   "id": "8af6e324",
   "metadata": {},
   "outputs": [
    {
     "name": "stdout",
     "output_type": "stream",
     "text": [
      "{'1111': 100}\n"
     ]
    },
    {
     "ename": "MissingOptionalLibraryError",
     "evalue": "\"The 'matplotlib' library is required to use 'plot_histogram'. You can install it with 'pip install matplotlib'.\"",
     "output_type": "error",
     "traceback": [
      "\u001b[0;31m---------------------------------------------------------------------------\u001b[0m",
      "\u001b[0;31mMissingOptionalLibraryError\u001b[0m               Traceback (most recent call last)",
      "Input \u001b[0;32mIn [55]\u001b[0m, in \u001b[0;36m<cell line: 6>\u001b[0;34m()\u001b[0m\n\u001b[1;32m      4\u001b[0m counts\u001b[38;5;241m=\u001b[39mresult\u001b[38;5;241m.\u001b[39mget_counts(dj_circuit)\n\u001b[1;32m      5\u001b[0m \u001b[38;5;28mprint\u001b[39m(counts)\n\u001b[0;32m----> 6\u001b[0m \u001b[43mplot_histogram\u001b[49m\u001b[43m(\u001b[49m\u001b[43mresult\u001b[49m\u001b[43m)\u001b[49m\n",
      "File \u001b[0;32m~/.local/lib/python3.8/site-packages/qiskit/utils/lazy_tester.py:164\u001b[0m, in \u001b[0;36mLazyDependencyManager.require_in_call.<locals>.out\u001b[0;34m(*args, **kwargs)\u001b[0m\n\u001b[1;32m    162\u001b[0m \u001b[38;5;129m@functools\u001b[39m\u001b[38;5;241m.\u001b[39mwraps(function)\n\u001b[1;32m    163\u001b[0m \u001b[38;5;28;01mdef\u001b[39;00m \u001b[38;5;21mout\u001b[39m(\u001b[38;5;241m*\u001b[39margs, \u001b[38;5;241m*\u001b[39m\u001b[38;5;241m*\u001b[39mkwargs):\n\u001b[0;32m--> 164\u001b[0m     \u001b[38;5;28;43mself\u001b[39;49m\u001b[38;5;241;43m.\u001b[39;49m\u001b[43mrequire_now\u001b[49m\u001b[43m(\u001b[49m\u001b[43mfeature\u001b[49m\u001b[43m)\u001b[49m\n\u001b[1;32m    165\u001b[0m     \u001b[38;5;28;01mreturn\u001b[39;00m function(\u001b[38;5;241m*\u001b[39margs, \u001b[38;5;241m*\u001b[39m\u001b[38;5;241m*\u001b[39mkwargs)\n",
      "File \u001b[0;32m~/.local/lib/python3.8/site-packages/qiskit/utils/lazy_tester.py:223\u001b[0m, in \u001b[0;36mLazyDependencyManager.require_now\u001b[0;34m(self, feature)\u001b[0m\n\u001b[1;32m    221\u001b[0m \u001b[38;5;28;01mif\u001b[39;00m \u001b[38;5;28mself\u001b[39m:\n\u001b[1;32m    222\u001b[0m     \u001b[38;5;28;01mreturn\u001b[39;00m\n\u001b[0;32m--> 223\u001b[0m \u001b[38;5;28;01mraise\u001b[39;00m MissingOptionalLibraryError(\n\u001b[1;32m    224\u001b[0m     libname\u001b[38;5;241m=\u001b[39m\u001b[38;5;28mself\u001b[39m\u001b[38;5;241m.\u001b[39m_name, name\u001b[38;5;241m=\u001b[39mfeature, pip_install\u001b[38;5;241m=\u001b[39m\u001b[38;5;28mself\u001b[39m\u001b[38;5;241m.\u001b[39m_install, msg\u001b[38;5;241m=\u001b[39m\u001b[38;5;28mself\u001b[39m\u001b[38;5;241m.\u001b[39m_msg\n\u001b[1;32m    225\u001b[0m )\n",
      "\u001b[0;31mMissingOptionalLibraryError\u001b[0m: \"The 'matplotlib' library is required to use 'plot_histogram'. You can install it with 'pip install matplotlib'.\""
     ]
    }
   ],
   "source": [
    "simulator=Aer.get_backend('qasm_simulator')\n",
    "job=execute(dj_circuit,simulator,shots=100)\n",
    "result=job.result()\n",
    "counts=result.get_counts(dj_circuit)\n",
    "print(counts)  #all 1's in the output indicate that the function is balanced"
   ]
  },
  {
   "cell_type": "code",
   "execution_count": null,
   "id": "e9854571",
   "metadata": {
    "scrolled": true
   },
   "outputs": [],
   "source": []
  },
  {
   "cell_type": "code",
   "execution_count": null,
   "id": "01a97c75",
   "metadata": {},
   "outputs": [],
   "source": []
  },
  {
   "cell_type": "code",
   "execution_count": null,
   "id": "aa8601a3",
   "metadata": {},
   "outputs": [],
   "source": []
  },
  {
   "cell_type": "code",
   "execution_count": null,
   "id": "7af648a1",
   "metadata": {},
   "outputs": [],
   "source": []
  },
  {
   "cell_type": "code",
   "execution_count": null,
   "id": "6375c5f7",
   "metadata": {},
   "outputs": [],
   "source": []
  }
 ],
 "metadata": {
  "kernelspec": {
   "display_name": "Python 3 (ipykernel)",
   "language": "python",
   "name": "python3"
  },
  "language_info": {
   "codemirror_mode": {
    "name": "ipython",
    "version": 3
   },
   "file_extension": ".py",
   "mimetype": "text/x-python",
   "name": "python",
   "nbconvert_exporter": "python",
   "pygments_lexer": "ipython3",
   "version": "3.8.10"
  }
 },
 "nbformat": 4,
 "nbformat_minor": 5
}
