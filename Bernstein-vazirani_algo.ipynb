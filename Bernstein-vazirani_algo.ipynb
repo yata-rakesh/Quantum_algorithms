{
 "cells": [
  {
   "cell_type": "code",
   "execution_count": 5,
   "id": "30a5813f",
   "metadata": {},
   "outputs": [
    {
     "name": "stdout",
     "output_type": "stream",
     "text": [
      "enter the number of qubits of 0:3\n",
      "enter the secret string:011\n",
      "{'011': 100}\n"
     ]
    }
   ],
   "source": [
    "#importing the required packages/functions\n",
    "from qiskit import IBMQ, Aer\n",
    "from qiskit.visualization import plot_histogram\n",
    "from qiskit.providers.ibmq import least_busy\n",
    "from qiskit import QuantumCircuit, transpile,QuantumRegister\n",
    "import numpy as np\n",
    "from qiskit import *\n",
    "\n",
    "\n",
    "n=int(input(\"enter the number of qubits of 0:\"))\n",
    "s=input(\"enter the secret string:\")\n",
    "\n",
    "bv_circuit = QuantumCircuit(n+1,n)\n",
    "\n",
    "for i in range(n):\n",
    "    bv_circuit.h(i)\n",
    "bv_circuit.h(n)\n",
    "bv_circuit.z(n)\n",
    "bv_circuit.barrier()\n",
    "\n",
    "\n",
    "#applying oracle\n",
    "s=s[::-1]\n",
    "\n",
    "for i in range(len(s)):\n",
    "    if(s[i]==\"1\"):\n",
    "        bv_circuit.cx(i,n)\n",
    "    else:\n",
    "        bv_circuit.i(i)\n",
    "        \n",
    "#end of oracle\n",
    "bv_circuit.barrier()\n",
    "\n",
    "#applying the last hadamard gates and measuring them\n",
    "for i in range(n):\n",
    "    bv_circuit.h(i)\n",
    "\n",
    "\n",
    "\n",
    "for i in range(n):\n",
    "    bv_circuit.measure(i,i)\n",
    "\n",
    "\n",
    "#code for knowing the measurement\n",
    "\n",
    "simulator = Aer.get_backend(\"qasm_simulator\")\n",
    "job = execute(bv_circuit,simulator,shots=100)\n",
    "result = job.result()\n",
    "counts = result.get_counts(bv_circuit)\n",
    "print(counts)\n",
    "\n",
    "bv_circuit.draw()"
   ]
  },
  {
   "cell_type": "code",
   "execution_count": null,
   "id": "9ce9827b",
   "metadata": {},
   "outputs": [],
   "source": []
  }
 ],
 "metadata": {
  "kernelspec": {
   "display_name": "Python 3 (ipykernel)",
   "language": "python",
   "name": "python3"
  },
  "language_info": {
   "codemirror_mode": {
    "name": "ipython",
    "version": 3
   },
   "file_extension": ".py",
   "mimetype": "text/x-python",
   "name": "python",
   "nbconvert_exporter": "python",
   "pygments_lexer": "ipython3",
   "version": "3.8.10"
  }
 },
 "nbformat": 4,
 "nbformat_minor": 5
}
